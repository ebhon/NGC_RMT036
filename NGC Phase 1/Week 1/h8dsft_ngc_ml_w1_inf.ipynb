{
 "cells": [
  {
   "cell_type": "markdown",
   "metadata": {},
   "source": [
    "# Model Inference Insurance"
   ]
  },
  {
   "cell_type": "markdown",
   "metadata": {},
   "source": [
    "> Nama : Handwitanto Abraham  \n",
    "> Batch : RMT_036"
   ]
  },
  {
   "cell_type": "code",
   "execution_count": 1,
   "metadata": {},
   "outputs": [],
   "source": [
    "import pickle\n",
    "import json\n",
    "import pandas as pd\n",
    "import numpy as np"
   ]
  },
  {
   "cell_type": "code",
   "execution_count": 2,
   "metadata": {},
   "outputs": [],
   "source": [
    "#load files\n",
    "with open('model.pkl','rb') as file_1: #rb = read binary\n",
    "    model = pickle.load(file_1)\n",
    "\n",
    "with open('model_scaler.pkl','rb') as file_2: #rb = read binary\n",
    "    scaler = pickle.load(file_2)\n",
    "\n",
    "with open('model_encoder.pkl','rb') as file_3: #rb = read binary\n",
    "    encoder = pickle.load(file_3)\n",
    "\n",
    "with open('num_col.txt','r') as file_4: #rb = read \n",
    "    num_col= json.load(file_4)\n",
    "\n",
    "with open('cat_col.txt','r') as file_5: #rb = read \n",
    "    cat_col = json.load(file_5)"
   ]
  },
  {
   "cell_type": "code",
   "execution_count": 38,
   "metadata": {},
   "outputs": [],
   "source": [
    "# Create data inference\n",
    "df_inf = {\n",
    "    'age':29,\n",
    "    'sex':'male',\n",
    "    'bmi':50,\n",
    "    'children':0,\n",
    "    'smoker':'yes',\n",
    "    'region': 'southeast'\n",
    "}\n",
    "\n",
    "df_inf = pd.DataFrame([df_inf])"
   ]
  },
  {
   "cell_type": "code",
   "execution_count": 39,
   "metadata": {},
   "outputs": [
    {
     "data": {
      "text/html": [
       "<div>\n",
       "<style scoped>\n",
       "    .dataframe tbody tr th:only-of-type {\n",
       "        vertical-align: middle;\n",
       "    }\n",
       "\n",
       "    .dataframe tbody tr th {\n",
       "        vertical-align: top;\n",
       "    }\n",
       "\n",
       "    .dataframe thead th {\n",
       "        text-align: right;\n",
       "    }\n",
       "</style>\n",
       "<table border=\"1\" class=\"dataframe\">\n",
       "  <thead>\n",
       "    <tr style=\"text-align: right;\">\n",
       "      <th></th>\n",
       "      <th>age</th>\n",
       "      <th>sex</th>\n",
       "      <th>bmi</th>\n",
       "      <th>children</th>\n",
       "      <th>smoker</th>\n",
       "      <th>region</th>\n",
       "    </tr>\n",
       "  </thead>\n",
       "  <tbody>\n",
       "    <tr>\n",
       "      <th>0</th>\n",
       "      <td>29</td>\n",
       "      <td>male</td>\n",
       "      <td>50</td>\n",
       "      <td>0</td>\n",
       "      <td>yes</td>\n",
       "      <td>southeast</td>\n",
       "    </tr>\n",
       "  </tbody>\n",
       "</table>\n",
       "</div>"
      ],
      "text/plain": [
       "   age   sex  bmi  children smoker     region\n",
       "0   29  male   50         0    yes  southeast"
      ]
     },
     "execution_count": 39,
     "metadata": {},
     "output_type": "execute_result"
    }
   ],
   "source": [
    "df_inf"
   ]
  },
  {
   "cell_type": "code",
   "execution_count": 40,
   "metadata": {},
   "outputs": [],
   "source": [
    "#split num cat col\n",
    "df_inf_num = df_inf[num_col]\n",
    "df_inf_cat = df_inf[cat_col]"
   ]
  },
  {
   "cell_type": "code",
   "execution_count": 41,
   "metadata": {},
   "outputs": [],
   "source": [
    "#scaling\n",
    "df_inf_num_scaled = scaler.transform(df_inf_num)\n"
   ]
  },
  {
   "cell_type": "code",
   "execution_count": 42,
   "metadata": {},
   "outputs": [],
   "source": [
    "#encoding\n",
    "df_inf_cat_encoded = encoder.transform(df_inf_cat)\n"
   ]
  },
  {
   "cell_type": "code",
   "execution_count": 43,
   "metadata": {},
   "outputs": [],
   "source": [
    "#concat\n",
    "df_inf_final = np.concatenate([df_inf_cat_encoded, df_inf_num_scaled], axis=1)"
   ]
  },
  {
   "cell_type": "code",
   "execution_count": 44,
   "metadata": {},
   "outputs": [
    {
     "name": "stdout",
     "output_type": "stream",
     "text": [
      "Prediksi biaya insurance-health sebesar $42263.32\n"
     ]
    }
   ],
   "source": [
    "#predict\n",
    "result = model.predict(df_inf_final)\n",
    "\n",
    "prediction_charge = np.expm1(result[0])\n",
    "\n",
    "print(f\"Prediksi biaya insurance-health sebesar ${round(prediction_charge,2)}\")"
   ]
  }
 ],
 "metadata": {
  "kernelspec": {
   "display_name": "base",
   "language": "python",
   "name": "python3"
  },
  "language_info": {
   "codemirror_mode": {
    "name": "ipython",
    "version": 3
   },
   "file_extension": ".py",
   "mimetype": "text/x-python",
   "name": "python",
   "nbconvert_exporter": "python",
   "pygments_lexer": "ipython3",
   "version": "3.12.4"
  }
 },
 "nbformat": 4,
 "nbformat_minor": 2
}
